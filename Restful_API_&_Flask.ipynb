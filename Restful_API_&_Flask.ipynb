{
  "cells": [
    {
      "cell_type": "markdown",
      "metadata": {
        "id": "vZiWb8CZKTEK"
      },
      "source": [
        "                                      Restful API & Flask"
      ]
    },
    {
      "cell_type": "markdown",
      "metadata": {
        "id": "C7giD5lHKTAw"
      },
      "source": [
        "1. What is a RESTful API?\n",
        "- A RESTful API is an interface that allows communication between systems using HTTP methods. It follows REST principles like statelessness, resource-based URLs, and standard operations (GET, POST, PUT, DELETE)."
      ]
    },
    {
      "cell_type": "markdown",
      "metadata": {
        "id": "MAy15vvbKS9Q"
      },
      "source": [
        "2. Explain the concept of API specification\n",
        "- An API specification is a detailed description of how an API works, including its endpoints, request/response formats, parameters, and authentication methods. Tools like Swagger/OpenAPI help define and visualize API specs."
      ]
    },
    {
      "cell_type": "markdown",
      "metadata": {
        "id": "j7NZmG9yKS6K"
      },
      "source": [
        "3. What is Flask, and why is it popular for building APIs?\n",
        "- Flask is a lightweight Python web framework. It's popular for APIs due to its simplicity, flexibility, built-in development server, and vast extension support like Flask-RESTful."
      ]
    },
    {
      "cell_type": "markdown",
      "metadata": {
        "id": "G8K3KTgaKnwn"
      },
      "source": [
        "4. What is routing in Flask?\n",
        "- Routing in Flask maps URLs to Python functions (views). Each route defines how a specific URL should be handled."
      ]
    },
    {
      "cell_type": "markdown",
      "metadata": {
        "id": "VYqKpR11KpIH"
      },
      "source": [
        "5. How do you create a simple Flask application?\n",
        "- from flask import Flask\n",
        "\n",
        " app = Flask(__name__)\n",
        "\n",
        " @app.route('/')\n",
        "\n",
        " def home():\n",
        "\n",
        "     return 'Hello, Flask!'\n",
        "\n",
        " if __name__ == '__main__':\n",
        "\n",
        "    app.run()\n"
      ]
    },
    {
      "cell_type": "markdown",
      "metadata": {
        "id": "HzkenS2BKpEs"
      },
      "source": [
        "6. What are HTTP methods used in RESTful APIs?\n",
        "- GET: Retrieve data\n",
        "\n",
        "- POST: Create new data\n",
        "\n",
        "- PUT: Update existing data\n",
        "\n",
        "- DELETE: Remove data\n",
        "\n",
        "- PATCH: Partially update data"
      ]
    },
    {
      "cell_type": "markdown",
      "metadata": {
        "id": "EGY94MLRKpCg"
      },
      "source": [
        "7. What is the purpose of the @app.route() decorator in Flask?\n",
        "- It is used to binds a function to a specific URL, telling Flask what to do when that URL is accessed."
      ]
    },
    {
      "cell_type": "markdown",
      "metadata": {
        "id": "_M0EVWkhKo_v"
      },
      "source": [
        "8. What is the difference between GET and POST HTTP methods?\n",
        "  \n",
        "  The difference between GET and POST are :\n",
        "- GET: Fetches data (safe and idempotent).\n",
        "\n",
        "- POST: Sends data to the server to create something (not idempotent)."
      ]
    },
    {
      "cell_type": "markdown",
      "metadata": {
        "id": "MlyJAmdtKo7_"
      },
      "source": [
        "9. How do you handle errors in Flask APIs?\n",
        "- This can be done by registering error handlers. An error handler is a function that returns a response when a type of error is raised, similar to how a view is a function that returns a response when a request URL is matched."
      ]
    },
    {
      "cell_type": "markdown",
      "metadata": {
        "id": "FqUgM6eKKo5m"
      },
      "source": [
        "10. How do you connect Flask to a SQL database?\n",
        "- Connecting to the MySQL database in a Flask app\n",
        "\n",
        " Step 1: Create the getdb function. We are going to write the connection code once in the getdb function and return the database connection anytime it's needed in our routes.\n",
        "\n",
        " Step 2: Close the database connection after each request.\n",
        "\n",
        " Step 3: Use the getdb function in routes."
      ]
    },
    {
      "cell_type": "markdown",
      "metadata": {
        "id": "3XtLMi4MKo3A"
      },
      "source": [
        "11. What is the role of Flask-SQLAlchemy?\n",
        "- It simplifies database operations by providing ORM support, allowing you to use Python classes instead of SQL queries."
      ]
    },
    {
      "cell_type": "markdown",
      "metadata": {
        "id": "hPCxQSUZKo0Y"
      },
      "source": [
        "12. What are Flask blueprints, and how are they useful?\n",
        "- Blueprints help organize large applications into modules. They allow grouping of routes, templates, and static files."
      ]
    },
    {
      "cell_type": "markdown",
      "metadata": {
        "id": "nG3SHI1fKow7"
      },
      "source": [
        "13. What is the purpose of Flask's request object?\n",
        "- The purpuse of Flask request object is to gives access to data sent by the client, such as form data, JSON, headers, and query parameters."
      ]
    },
    {
      "cell_type": "markdown",
      "metadata": {
        "id": "JBwX5VzXKouc"
      },
      "source": [
        "14. How do you create a RESTful API endpoint using Flask?\n",
        "- To create a RESTful API endpoint using Flask, follow these basic steps:\n",
        "\n",
        " Step 1. Import Flask and Required Modules\n",
        "\n",
        " Step 2. Initialize the Flask App\n",
        "\n",
        " Step 3. Define Your Endpoint with a Route and HTTP Method\n",
        "\n",
        " Step 4. Run the Flask Application\n"
      ]
    },
    {
      "cell_type": "markdown",
      "metadata": {
        "id": "XY4hpsEMKor6"
      },
      "source": [
        "15. What is the purpose of Flask's jsonify() function?\n",
        "- It converts Python dictionaries/lists into JSON response objects with the correct MIME type (application/json)."
      ]
    },
    {
      "cell_type": "markdown",
      "metadata": {
        "id": "GaA2PJJfKokr"
      },
      "source": [
        "16. Explain Flask’s url_for() function\n",
        "- The url_for() function in Flask is used to generate URLs dynamically based on the name of a function and its arguments. It is a powerful tool for building web applications, as it helps to avoid hardcoding URLs, making the code more maintainable and flexible.\n"
      ]
    },
    {
      "cell_type": "markdown",
      "metadata": {
        "id": "Setb9SQIKohr"
      },
      "source": [
        "17. How does Flask handle static files (CSS, JavaScript, etc.)?\n",
        "- Flask handles static files such as CSS, JavaScript, and images by serving them from a designated directory, typically named \"static,\" located in the same directory as the Flask application file.\n",
        "To reference these files in HTML templates, Flask provides the url_for() function. This function generates the correct URL for the static file based on its location within the \"static\" directory."
      ]
    },
    {
      "cell_type": "markdown",
      "metadata": {
        "id": "adD0V4CuKoeY"
      },
      "source": [
        "18. What is an API specification, and how does it help in building a Flask API?\n",
        "- It acts like a contract between the frontend and backend, improving collaboration and reducing bugs.\n",
        "\n",
        " An API specification is a detailed description of how an API works, including its endpoints, request/response formats, parameters, and authentication methods. Tools like Swagger/OpenAPI help define and visualize API specs.\n",
        "\n"
      ]
    },
    {
      "cell_type": "markdown",
      "metadata": {
        "id": "Dtku__DuKoST"
      },
      "source": [
        "19. What are HTTP status codes, and why are they important in a Flask API?\n",
        "- They indicate the result of an HTTP request (e.g., 200 OK, 404 Not Found, 500 Internal Server Error). They help clients understand what happened."
      ]
    },
    {
      "cell_type": "markdown",
      "metadata": {
        "id": "RE8MElVzn12H"
      },
      "source": [
        "20. How do you handle POST requests in Flask?\n",
        "- To handle POST requests in Flask, you use the @app.route() decorator with the methods=['POST'] argument. Inside the route function, you can access the data sent in the POST request using the request object from flask.\n",
        "\n",
        "Basic Steps:\n",
        "1. Import required modules\n",
        "\n",
        "2. Use @app.route() with methods=['POST']\n",
        "\n",
        "3. Use request.form, request.json, or request.get_json() to access data"
      ]
    },
    {
      "cell_type": "markdown",
      "metadata": {
        "id": "NHhRfJw8nTDs"
      },
      "source": [
        "21. How would you secure a Flask API?\n",
        "- We  can secure aFlask API by :\n",
        " - Use HTTPS\n",
        "\n",
        " - Validate inputs\n",
        "\n",
        " - Implement authentication (e.g., JWT or token-based)\n",
        "\n",
        " - Use rate limiting and error handling\n",
        "\n"
      ]
    },
    {
      "cell_type": "markdown",
      "metadata": {
        "id": "9t8a0jJMnS1L"
      },
      "source": [
        "22. What is the significance of the Flask-RESTful extension?\n",
        "- It simplifies building RESTful APIs by providing tools like Resource classes, automatic routing, and request parsing."
      ]
    },
    {
      "cell_type": "markdown",
      "metadata": {
        "id": "OAHf6WjunRqw"
      },
      "source": [
        "23. What is the role of Flask’s session object?\n",
        "- It stores user-specific data between requests (e.g., login info). It uses a secure cookie to maintain session data.\n",
        "\n"
      ]
    },
    {
      "cell_type": "markdown",
      "metadata": {
        "id": "t9-zQ9r1oj9b"
      },
      "source": [
        "#Practical"
      ]
    },
    {
      "cell_type": "code",
      "execution_count": null,
      "metadata": {
        "colab": {
          "background_save": true
        },
        "id": "Gt7QWfcTojPo"
      },
      "outputs": [],
      "source": [
        "# 1. How do you create a basic Flask application?\n",
        "from flask import Flask\n",
        "\n",
        "app = Flask(__name__)\n",
        "\n",
        "@app.route('/')\n",
        "def home():\n",
        "    return 'Hello, Flask!'\n",
        "\n",
        "if __name__ == '__main__':\n",
        "    app.run(debug=True)\n"
      ]
    },
    {
      "cell_type": "code",
      "execution_count": 16,
      "metadata": {
        "id": "yqBia_2Gotbd",
        "colab": {
          "base_uri": "https://localhost:8080/",
          "height": 106
        },
        "outputId": "4d4d175c-aba9-42c5-b3e4-88e4e647da9d"
      },
      "outputs": [
        {
          "output_type": "error",
          "ename": "SyntaxError",
          "evalue": "invalid syntax (<ipython-input-16-3440191121>, line 14)",
          "traceback": [
            "\u001b[0;36m  File \u001b[0;32m\"<ipython-input-16-3440191121>\"\u001b[0;36m, line \u001b[0;32m14\u001b[0m\n\u001b[0;31m    <!DOCTYPE html>\u001b[0m\n\u001b[0m    ^\u001b[0m\n\u001b[0;31mSyntaxError\u001b[0m\u001b[0;31m:\u001b[0m invalid syntax\n"
          ]
        }
      ],
      "source": [
        "# 2. How do you serve static files like images or CSS in Flask?\n",
        "\n",
        "from flask import Flask, render_template\n",
        "\n",
        "app = Flask(__name__)\n",
        "\n",
        "@app.route('/')\n",
        "def home():\n",
        "    return render_template('index.html')  # Load HTML file\n",
        "\n",
        "if __name__ == '__main__':\n",
        "    app.run(debug=True)\n",
        "\n",
        "<!DOCTYPE html>\n",
        "<html>\n",
        "<head>\n",
        "    <title>Static Example</title>\n",
        "    <!-- Linking CSS -->\n",
        "    <link rel=\"stylesheet\" href=\"{{ url_for('static', filename='style.css') }}\">\n",
        "</head>\n",
        "<body>\n",
        "    <h1>Hello Flask!</h1>\n",
        "    <p>This is a styled page.</p>\n",
        "\n",
        "    <!-- Showing an image -->\n",
        "    <img src=\"{{ url_for('static', filename='logo.png') }}\" width=\"200\">\n",
        "</body>\n",
        "</html>\n"
      ]
    },
    {
      "cell_type": "code",
      "execution_count": 3,
      "metadata": {
        "id": "2rBf7bgQotYC"
      },
      "outputs": [],
      "source": [
        "# 3. Define Routes with Different HTTP Methods\n",
        "from flask import Flask, request\n",
        "app = Flask(__name__)\n",
        "\n",
        "@app.route('/submit', methods=['GET', 'POST'])\n",
        "def submit():\n",
        "    if request.method == 'POST':\n",
        "        return 'Form submitted using POST'\n",
        "    return 'This is a GET request'\n"
      ]
    },
    {
      "cell_type": "code",
      "execution_count": 4,
      "metadata": {
        "id": "IYt8WdlXotUt"
      },
      "outputs": [],
      "source": [
        "# 4. How do you render HTML templates in Flask4\n",
        "from flask import Flask, render_template\n",
        "app = Flask(__name__)\n",
        "\n",
        "@app.route('/')\n",
        "def home():\n",
        "    return render_template('index.html')  # Ensure you have templates/index.html\n",
        "\n"
      ]
    },
    {
      "cell_type": "code",
      "execution_count": 16,
      "metadata": {
        "id": "98TxoLi5otRT"
      },
      "outputs": [],
      "source": [
        "# 5. How can you generate URLs for routes in Flask using url_for?\n",
        "from flask import Flask, url_for\n",
        "app = Flask(__name__)\n",
        "\n",
        "@app.route('/profile/<username>')\n",
        "def profile(username):\n",
        "    return f\"User: {username}\"\n",
        "\n",
        "@app.route('/link')\n",
        "def link():\n",
        "    return url_for('profile', username='udit')\n",
        "\n",
        "# output : Output on visiting /profile-link: Redirects to /profile/udit\n",
        "#          Final Output: Welcome udit\n",
        "\n",
        "\n"
      ]
    },
    {
      "cell_type": "code",
      "execution_count": 26,
      "metadata": {
        "id": "zjabpRuSotNn"
      },
      "outputs": [],
      "source": [
        "# 6.  How do you handle forms in Flask?\n",
        "from flask import Flask, request, render_template\n",
        "\n",
        "app = Flask(__name__)\n",
        "\n",
        "@app.route('/form', methods=['GET', 'POST'])\n",
        "def form():\n",
        "    if request.method == 'POST':\n",
        "        name = request.form['username']\n",
        "        return f'Hello, {name}'\n",
        "    return render_template('form.html')\n",
        "\n",
        "#✅ Output: Entering Udit shows → Hello, Udit"
      ]
    },
    {
      "cell_type": "code",
      "source": [
        "# 7. How can you validate form data in Flask?\n",
        "# importing Flask and other modules\n",
        "from flask import Flask, request, render_template\n",
        "\n",
        "# Flask constructor\n",
        "app = Flask(__name__)\n",
        "\n",
        "@app.route('/', methods =[\"GET\", \"POST\"])\n",
        "def gfg():\n",
        "    if request.method == \"POST\":\n",
        "       # getting input with name = fname in HTML form\n",
        "       first_name = request.form.get(\"fname\")\n",
        "       # getting input with name = lname in HTML form\n",
        "       last_name = request.form.get(\"lname\")\n",
        "       return \"Your name is \"+first_name + last_name\n",
        "    return render_template(\"form.html\")\n",
        "\n",
        "if __name__=='__main__':\n",
        "   app.run()\n",
        "\n",
        "#✅ Output: If blank → Username required\n",
        "#✅ If name entered: Welcome <name>"
      ],
      "metadata": {
        "id": "LIufDkw0oFfC"
      },
      "execution_count": null,
      "outputs": []
    },
    {
      "cell_type": "code",
      "execution_count": 29,
      "metadata": {
        "id": "c8GI9q02otHJ"
      },
      "outputs": [],
      "source": [
        "#8. How do you manage sessions in Flask?\n",
        "app.secret_key = 'secret123'\n",
        "\n",
        "@app.route('/login')\n",
        "def login():\n",
        "    session['user'] = 'udit'\n",
        "    return 'User logged in'\n",
        "\n",
        "@app.route('/logout')\n",
        "def logout():\n",
        "    session.pop('user', None)\n",
        "    return 'User logged out'\n",
        "\n",
        "@app.route('/dashboard')\n",
        "def dashboard():\n",
        "    user = session.get('user')\n",
        "    return f'Welcome {user}' if user else 'Please login'\n"
      ]
    },
    {
      "cell_type": "code",
      "execution_count": null,
      "metadata": {
        "id": "sIOk6mGUotED",
        "collapsed": true
      },
      "outputs": [],
      "source": [
        "# 9. How do you redirect to a different route in Flask\n",
        "from flask import Flask, redirect, url_for\n",
        "\n",
        "app = Flask(__name__)\n",
        "\n",
        "@app.route('/')\n",
        "def home():\n",
        "    return 'Welcome to the Home Page'\n",
        "\n",
        "@app.route('/login')\n",
        "def login():\n",
        "    # Redirecting to the success page\n",
        "    return redirect(url_for('success'))\n",
        "\n",
        "@app.route('/success')\n",
        "def success():\n",
        "    return 'You have been successfully logged in!'\n",
        "\n",
        "if __name__ == '__main__':\n",
        "    app.run(debug=True)\n"
      ]
    },
    {
      "cell_type": "code",
      "execution_count": null,
      "metadata": {
        "id": "OTTBTgyfos_i"
      },
      "outputs": [],
      "source": [
        "# 10. How do you handle errors in Flask (e.g., 404)\n",
        "from flask import Flask\n",
        "\n",
        "app = Flask(__name__)\n",
        "\n",
        "@app.route('/')\n",
        "def home():\n",
        "    return 'Welcome to the Home Page'\n",
        "\n",
        "# Handling 404 Error\n",
        "@app.errorhandler(404)\n",
        "def page_not_found(e):\n",
        "    return 'Oops! Page not found (404).', 404\n",
        "\n",
        "if __name__ == '__main__':\n",
        "    app.run(debug=True)\n"
      ]
    },
    {
      "cell_type": "code",
      "source": [
        "# 11. How do you structure a Flask app using Blueprints?\n",
        "from flask import Blueprint\n",
        "user_bp = Blueprint('user', __name__)\n",
        "\n",
        "@user_bp.route('/user')\n",
        "def user_home():\n",
        "    return 'User Blueprint Home'\n",
        "\n",
        "from user_routes import user_bp\n",
        "app.register_blueprint(user_bp)\n",
        "\n",
        "# ✅ Output: /user → User Blueprint Home\n",
        "\n"
      ],
      "metadata": {
        "id": "DJZSexKKo9BW"
      },
      "execution_count": null,
      "outputs": []
    },
    {
      "cell_type": "code",
      "execution_count": null,
      "metadata": {
        "id": "p07r3M1mos2p"
      },
      "outputs": [],
      "source": [
        "# 12.How do you define a custom Jinja filter in Flask?\n",
        "from flask import Flask, render_template_string\n",
        "\n",
        "app = Flask(__name__)\n",
        "\n",
        "# Define a custom Jinja filter\n",
        "def reverse_string(s):\n",
        "    return s[::-1]\n",
        "\n",
        "# Register the filter with Jinja\n",
        "app.jinja_env.filters['reverse'] = reverse_string\n",
        "\n",
        "@app.route('/')\n",
        "def home():\n",
        "    name = \"Flask\"\n",
        "    return render_template_string('<h1>{{ name | reverse }}</h1>', name=name)\n",
        "\n",
        "if __name__ == '__main__':\n",
        "    app.run(debug=True)\n",
        "\n"
      ]
    },
    {
      "cell_type": "code",
      "source": [
        "# 13.How can you redirect with query parameters in Flask\n",
        "@app.route('/redirect-query')\n",
        "def redirect_query():\n",
        "    return redirect(url_for('hello_query', name='udit'))\n",
        "\n",
        "@app.route('/hello-query')\n",
        "def hello_query():\n",
        "    name = request.args.get('name')\n",
        "    return f'Hello {name}'\n",
        "\n"
      ],
      "metadata": {
        "id": "ZDEoodFraiml"
      },
      "execution_count": 5,
      "outputs": []
    },
    {
      "cell_type": "code",
      "source": [
        "# 14. How do you return JSON responses in Flask\n",
        "\n",
        "from flask import Flask, jsonify\n",
        "\n",
        "app = Flask(__name__)  # Create Flask app instance\n",
        "\n",
        "@app.route('/json')\n",
        "def json_data():\n",
        "    return jsonify({'name': 'udit', 'age': 22})\n",
        "\n",
        "if __name__ == '__main__':\n",
        "    app.run(debug=True)\n",
        "\n"
      ],
      "metadata": {
        "id": "EpQqa3UraiaQ"
      },
      "execution_count": null,
      "outputs": []
    },
    {
      "cell_type": "code",
      "execution_count": 14,
      "metadata": {
        "id": "DMsb4oAlosmv"
      },
      "outputs": [],
      "source": [
        "# 15. How do you capture URL parameters in Flask?\n",
        "from flask import Flask\n",
        "\n",
        "app = Flask(__name__)\n",
        "\n",
        "@app.route('/user/<username>')\n",
        "def show_user(username):\n",
        "    return f'Hello, {username}!'\n"
      ]
    }
  ],
  "metadata": {
    "colab": {
      "provenance": []
    },
    "kernelspec": {
      "display_name": "Python 3",
      "name": "python3"
    },
    "language_info": {
      "name": "python"
    }
  },
  "nbformat": 4,
  "nbformat_minor": 0
}